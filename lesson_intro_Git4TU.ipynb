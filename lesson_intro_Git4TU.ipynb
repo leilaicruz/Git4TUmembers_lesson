{
 "cells": [
  {
   "cell_type": "markdown",
   "metadata": {
    "slideshow": {
     "slide_type": "slide"
    }
   },
   "source": [
    "# Intro to version control"
   ]
  },
  {
   "cell_type": "markdown",
   "metadata": {
    "slideshow": {
     "slide_type": "slide"
    }
   },
   "source": [
    "## Because this.... \n",
    "\n",
    "<img src=\"img/phd_final_doc.png\" alt=\"drawing\" width=\"400\"/>\n",
    "\n",
    "\n",
    "\n"
   ]
  },
  {
   "cell_type": "markdown",
   "metadata": {
    "slideshow": {
     "slide_type": "slide"
    }
   },
   "source": [
    "## ... leads to this \n",
    "\n",
    "<img src=\"img/phd_story_told_infilenames.gif\" alt=\"drawing\" width=\"400\"/>\n"
   ]
  },
  {
   "cell_type": "markdown",
   "metadata": {
    "slideshow": {
     "slide_type": "slide"
    }
   },
   "source": [
    "## Why is version management important? \n",
    "\n",
    "- Possible to revert back to a working version if things broke.\n",
    "- Benefit team collaboration.\n",
    "- Improve efficiency."
   ]
  },
  {
   "cell_type": "markdown",
   "metadata": {
    "slideshow": {
     "slide_type": "slide"
    },
    "tags": []
   },
   "source": [
    "## How should we manage changes? \n",
    "\n",
    "### Keeping track of changes: \n",
    "\n",
    "- Back up (almost) everything created by a human as soon as it is created.\n",
    "- Keep changes small.\n",
    "- Share changes frequently.\n",
    "- Create, maintain and use a checklist for saving and sharing changes to the project. \n",
    "- Store each project in a folder that is mirrored off the researchers' working machine.  \n",
    "\n",
    "\n",
    "\n",
    "This list comes from \"Keeping track of changes\" in swcarpentry's paper [good-enough practices in scientific computing](https://swcarpentry.github.io/good-enough-practices-in-scientific-computing/)."
   ]
  },
  {
   "cell_type": "markdown",
   "metadata": {
    "slideshow": {
     "slide_type": "slide"
    }
   },
   "source": [
    "## Exercise 1: Manual versioning \n",
    "\n",
    "Versions can be managed either by hand or by using a Version Control System (VCS). To illustrate the workings of a VCS we start an excercise using manual versioning. \n",
    "The goals of this excercise are: \n",
    "- Practice with versioning best practices\n",
    "- Understand the limitations of manual version management\n",
    "\n"
   ]
  },
  {
   "cell_type": "markdown",
   "metadata": {
    "slideshow": {
     "slide_type": "notes"
    }
   },
   "source": [
    "This exercise should be done as a demo in plenum together with the students , so they faced all the necessary steps for manual versioning "
   ]
  },
  {
   "cell_type": "markdown",
   "metadata": {
    "slideshow": {
     "slide_type": "slide"
    }
   },
   "source": [
    "## 1A Setting up the project \n",
    " \n",
    "1. Create a folder named `simple_trigonometry`, in your Desktop. This folder is your project folder. \n",
    "\n",
    "```bash\n",
    "mkdir ~/Desktop/simple_trigonometry\n",
    "```\n",
    "\n",
    "\n",
    "\n",
    "\n"
   ]
  },
  {
   "cell_type": "markdown",
   "metadata": {
    "slideshow": {
     "slide_type": "slide"
    }
   },
   "source": [
    "2. Move to that folder and add a file called `CHANGELOG.txt` to your project folder.\n",
    "\n",
    "```bash\n",
    "cd Desktop/simple_trigonometry\n",
    "touch CHANGELOG.txt\n",
    "```\n",
    "The aim of the CHANGELOG.txt is to make dated notes about changes to the project in this file in reverse chronological order (i.e., most recent first). This file is the equivalent of a lab notebook, and should contain entries like those shown below.\n",
    "\n",
    "```markdown\n",
    "## 2016-04-08\n",
    "\n",
    "* Switched to cubic interpolation as default.\n",
    "* Moved question about family disease history to end of questionnaire.\n",
    "\n",
    "## 2016-04-06\n",
    "\n",
    "* Added option for cubic interpolation.\n",
    "* Removed question about blood pressure.\n",
    "```\n"
   ]
  },
  {
   "cell_type": "markdown",
   "metadata": {
    "slideshow": {
     "slide_type": "slide"
    }
   },
   "source": [
    "## 1B Copy the entire project whenever a significant change has been made\n",
    "\n",
    "(i.e., one that materially affects the results), and store that copy in a sub-folder whose name reflects the date in the area that's being synchronized. This approach results in projects being organized as shown below:\n",
    "\n",
    "```bash\n",
    ".\n",
    "|-- project_name\n",
    "|   -- current\n",
    "|       -- ...project content as described earlier...\n",
    "|   -- 2016-03-01\n",
    "|       -- ...content of 'current' on Mar 1, 2016\n",
    "|   -- 2016-02-19\n",
    "|       -- ...content of 'current' on Feb 19, 2016\n",
    "```"
   ]
  },
  {
   "cell_type": "markdown",
   "metadata": {
    "slideshow": {
     "slide_type": "slide"
    }
   },
   "source": [
    "## 1C Example\n",
    "\n",
    "Add your changes every time you finish a bulletpoint. \n",
    "\n",
    "* Create a new file called `test.py` and add a function to `test.py` to calculate the circumference of a circle. Add your changes to the CHANGELOG.txt, and copy the entire project to a subfolder whose name reflects the data of the change. \n",
    "\n",
    "```python\n",
    "def Perimeter(r):\n",
    "    return 2*pi*r\n",
    "```\n"
   ]
  },
  {
   "cell_type": "markdown",
   "metadata": {
    "slideshow": {
     "slide_type": "slide"
    }
   },
   "source": [
    "* Create a new file called `script.py` that is empty. Add your changes in the same manner as before \n",
    "\n",
    "```bash\n",
    "touch script.py\n",
    "```\n",
    "\n"
   ]
  },
  {
   "cell_type": "markdown",
   "metadata": {
    "slideshow": {
     "slide_type": "slide"
    }
   },
   "source": [
    "* Add some print statement to `script.py`. Add your changes. \n",
    "\n",
    "```python\n",
    "print(\"This is a script\")\n",
    "```\n",
    "\n",
    "* Show your CHANGELOG.txt file \n",
    "\n",
    "```bash\n",
    "cat CHANGELOG.txt\n",
    "```"
   ]
  },
  {
   "cell_type": "markdown",
   "metadata": {
    "slideshow": {
     "slide_type": "slide"
    }
   },
   "source": [
    "## Problems with manual version control \n",
    "\n",
    "- It requires a lot of discipline, systematicity and consistency. \n",
    "\n",
    "\n",
    "- Imagine tracking all changes by a team that collaborate in the same project folder , just manually !!! \n",
    "\n",
    "- Imagine that two members of the team modifies the same line from the file `test.py`. \n",
    "    - It is virtually impossible to resolve conflicts, with a manual version control  system \n",
    "\n",
    "- Exponentially growth of your project in terms of space. "
   ]
  },
  {
   "cell_type": "markdown",
   "metadata": {
    "slideshow": {
     "slide_type": "slide"
    }
   },
   "source": [
    "# Git as the most used version control system"
   ]
  },
  {
   "cell_type": "markdown",
   "metadata": {
    "slideshow": {
     "slide_type": "slide"
    }
   },
   "source": [
    "## Git is a *distributed* version control system (VCS) that automates everything\n",
    "\n",
    "![](img/Git-Logo.png)\n"
   ]
  },
  {
   "cell_type": "markdown",
   "metadata": {
    "slideshow": {
     "slide_type": "slide"
    }
   },
   "source": [
    "- **git** was created by the creator of Linux , Linus Torvalds.\n",
    "\n",
    "- **git** is a version control software that keeps track of the entire history of a particular project , and also allows to many people to collaborate in the same project. \n",
    "\n",
    "- **git** is a tool widely used in the software development world \n",
    "\n",
    "- **git** prevent to generate a copy of your file for every new version you save. \n",
    "\n",
    "- **git** + **Github** allows you to collaborate with others in a very efficient way. \n"
   ]
  },
  {
   "cell_type": "markdown",
   "metadata": {
    "slideshow": {
     "slide_type": "slide"
    }
   },
   "source": [
    "## Which tools are we going to use?\n",
    "\n",
    "- Terminal (Linux, Mac), Git Bash(Windows) WSL (Windows)\n",
    "- Browser \n",
    "- Github account "
   ]
  },
  {
   "cell_type": "markdown",
   "metadata": {
    "slideshow": {
     "slide_type": "slide"
    }
   },
   "source": [
    "# Start of the lesson\n",
    "\n",
    "<img src=\"img/start-lesson.jpeg\" alt=\"drawing\" width=\"400\"/>\n",
    "\n"
   ]
  },
  {
   "cell_type": "markdown",
   "metadata": {
    "slideshow": {
     "slide_type": "slide"
    }
   },
   "source": [
    "\n",
    "## The working directory- stage area and git history relationship \n",
    "\n",
    "![](img/Git4TU_graphics_git_add_commit.png)"
   ]
  },
  {
   "cell_type": "markdown",
   "metadata": {
    "slideshow": {
     "slide_type": "slide"
    }
   },
   "source": [
    "## Current state of the working directory-stage area - git history \n",
    "\n",
    "![](img/Git4TU_graphics_git_add_commit_2.png)"
   ]
  },
  {
   "cell_type": "markdown",
   "metadata": {
    "slideshow": {
     "slide_type": "slide"
    }
   },
   "source": [
    "## Ignoring files\n",
    "\n",
    "![](img/Git4TU_graphics_ignoring_files.png)"
   ]
  },
  {
   "cell_type": "markdown",
   "metadata": {
    "slideshow": {
     "slide_type": "slide"
    }
   },
   "source": [
    "## Ignoring files\n",
    "\n",
    "![](img/Git4TU_graphics_ignoring_files_2.png)"
   ]
  },
  {
   "cell_type": "markdown",
   "metadata": {
    "slideshow": {
     "slide_type": "slide"
    }
   },
   "source": [
    "# Remote repositories \n",
    "\n",
    "\n",
    "![](img/github.png)\n",
    "\n",
    "- Git repository hosting service.\n",
    "\n",
    "- While Git is a command line tool, GitHub provides a Web-based graphical interface.\n",
    "\n",
    "- It also provides access control and several collaboration features, such as a wikis and basic task management tools for every project."
   ]
  },
  {
   "cell_type": "markdown",
   "metadata": {
    "slideshow": {
     "slide_type": "slide"
    }
   },
   "source": [
    "# SSH connection \n",
    "\n",
    "**Secure Shell (SSH)** is a cryptographic network protocol for operating network services securely over an unsecured network by providing a secure channel to connect an SSH client with an SSH server. \n",
    "\n",
    "![](img/Asymmetric-encryption-primitive.png) "
   ]
  },
  {
   "cell_type": "markdown",
   "metadata": {
    "slideshow": {
     "slide_type": "slide"
    }
   },
   "source": [
    "#  Branches\n",
    "\n",
    "\n",
    "![](img/Git4TU_graphics_branches.png)"
   ]
  },
  {
   "cell_type": "markdown",
   "metadata": {
    "slideshow": {
     "slide_type": "slide"
    }
   },
   "source": [
    "# Pull requests \n",
    "\n",
    "\n",
    "![](img/Git4TU_graphics_pull_request.png)"
   ]
  }
 ],
 "metadata": {
  "celltoolbar": "Slideshow",
  "kernelspec": {
   "display_name": "Python 3 (ipykernel)",
   "language": "python",
   "name": "python3"
  },
  "language_info": {
   "codemirror_mode": {
    "name": "ipython",
    "version": 3
   },
   "file_extension": ".py",
   "mimetype": "text/x-python",
   "name": "python",
   "nbconvert_exporter": "python",
   "pygments_lexer": "ipython3",
   "version": "3.11.6"
  }
 },
 "nbformat": 4,
 "nbformat_minor": 2
}
