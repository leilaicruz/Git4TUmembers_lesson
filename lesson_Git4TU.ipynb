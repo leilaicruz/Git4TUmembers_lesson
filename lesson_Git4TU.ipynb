{
 "cells": [
  {
   "cell_type": "markdown",
   "metadata": {
    "slideshow": {
     "slide_type": "slide"
    }
   },
   "source": [
    "# Intro to version control"
   ]
  },
  {
   "cell_type": "markdown",
   "metadata": {
    "slideshow": {
     "slide_type": "slide"
    }
   },
   "source": [
    "## Because this.... \n",
    "\n",
    "<img src=\"img/phd_final_doc.png\" alt=\"drawing\" width=\"400\"/>\n",
    "\n",
    "\n",
    "\n"
   ]
  },
  {
   "cell_type": "markdown",
   "metadata": {
    "slideshow": {
     "slide_type": "slide"
    }
   },
   "source": [
    "## ... leads to this \n",
    "\n",
    "<img src=\"img/phd_story_told_infilenames.gif\" alt=\"drawing\" width=\"400\"/>\n"
   ]
  },
  {
   "cell_type": "markdown",
   "metadata": {
    "slideshow": {
     "slide_type": "slide"
    }
   },
   "source": [
    "# Version management best practices"
   ]
  },
  {
   "cell_type": "markdown",
   "metadata": {
    "slideshow": {
     "slide_type": "subslide"
    }
   },
   "source": [
    "## Why is version management important? \n",
    "\n",
    "- Possible to revert back to a working version if things broke.\n",
    "- Benefit team collaboration.\n",
    "- Improve efficiency."
   ]
  },
  {
   "cell_type": "markdown",
   "metadata": {
    "slideshow": {
     "slide_type": "slide"
    },
    "tags": []
   },
   "source": [
    "## How should we manage changes? \n",
    "\n",
    "### Keeping track of changes: \n",
    "\n",
    "- Back up (almost) everything created by a human as soon as it is created.\n",
    "- Keep changes small.\n",
    "- Share changes frequently.\n",
    "- Create, maintain and use a checklist for saving and sharing changes to the project. \n",
    "- Store each project in a folder that is mirrored off the researchers' working machine.  \n",
    "\n",
    "\n",
    "\n",
    "This list comes from \"Keeping track of changes\" in swcarpentry's paper [good-enough practices in scientific computing](https://swcarpentry.github.io/good-enough-practices-in-scientific-computing/)."
   ]
  },
  {
   "cell_type": "markdown",
   "metadata": {
    "slideshow": {
     "slide_type": "slide"
    }
   },
   "source": [
    "## Exercise 1: Manual versioning \n",
    "\n",
    "Versions can be managed either by hand or by using a Version Control System (VCS). To illustrate the workings of a VCS we start an excercise using manual versioning. \n",
    "The goals of this excercise are: \n",
    "- Practice with versioning best practices\n",
    "- Understand the limitations of manual version management\n",
    "\n"
   ]
  },
  {
   "cell_type": "markdown",
   "metadata": {
    "slideshow": {
     "slide_type": "slide"
    }
   },
   "source": [
    "## 1A Setting up the project \n",
    " \n",
    "1. Create a folder named `simple_trigonometry`, in your Desktop. This folder is your project folder. \n",
    "\n",
    "```bash\n",
    "mkdir ~/Desktop/simple_trigonometry\n",
    "```\n",
    "\n",
    "1. Move to that folder and add a file called `CHANGELOG.txt` to your project folder that keep track of every changes to your project. \n",
    "\n",
    "```bash\n",
    "cd Desktop/simple_trigonometry\n",
    "touch CHANGELOG.txt\n",
    "```\n",
    "\n",
    "\n",
    "1. Create a subfolder called `current` which is your latest version of your project.\n",
    "\n",
    "```bash\n",
    "mkdir current\n",
    "```"
   ]
  },
  {
   "cell_type": "markdown",
   "metadata": {
    "slideshow": {
     "slide_type": "slide"
    }
   },
   "source": [
    "## 1B Single user version tracking \n",
    "\n",
    "\n",
    "\n",
    "1. Create a new file called `test.py` \n",
    "    * Add the text `print('hello world')` \n",
    "\n",
    "1. Update `CHANGELOG.txt` with the changes. "
   ]
  },
  {
   "cell_type": "markdown",
   "metadata": {
    "slideshow": {
     "slide_type": "slide"
    }
   },
   "source": [
    "## 1C Practice basic version control using trigonometry\n",
    "\n",
    "Add your changes every time you finish a bulletpoint. \n",
    "* Add a function to `test.py` to calculate the circumference of a circle. Add your changes. \n",
    "\n",
    "```python\n",
    "def Perimeter(r):\n",
    "    return 2*pi*r\n",
    "```\n",
    "\n",
    "\n",
    "\n"
   ]
  },
  {
   "cell_type": "markdown",
   "metadata": {
    "slideshow": {
     "slide_type": "slide"
    }
   },
   "source": [
    "* Add a function to `test.py` to calculate the surface area of a circle. Add your changes. \n",
    "\n",
    "```python\n",
    "def Area(r):\n",
    "    return pi*r**2\n",
    "```\n",
    "\n"
   ]
  },
  {
   "cell_type": "markdown",
   "metadata": {
    "slideshow": {
     "slide_type": "slide"
    }
   },
   "source": [
    "* Create a new file called `script.py` that is empty. Add your changes. \n",
    "\n",
    "```bash\n",
    "touch script.py\n",
    "```\n",
    "\n"
   ]
  },
  {
   "cell_type": "markdown",
   "metadata": {
    "slideshow": {
     "slide_type": "slide"
    }
   },
   "source": [
    "* Add some print statement to `script.py`. Add your changes. \n",
    "\n",
    "```python\n",
    "print(\"This is a script\")\n",
    "```\n",
    "\n",
    "* Show your CHANGELOG.txt file \n",
    "\n",
    "```bash\n",
    "cat CHANGELOG.txt\n",
    "```"
   ]
  },
  {
   "cell_type": "markdown",
   "metadata": {
    "slideshow": {
     "slide_type": "slide"
    }
   },
   "source": [
    "## Problems with manual version control \n",
    "\n",
    "- It requires a lot of discipline, systematicity and consistency. \n",
    "\n",
    "\n",
    "- Imagine tracking all changes by a team that collaborate in the same project folder , just manually !!! \n",
    "\n",
    "- Imagine that two members of the team modifies the same line from the file `test.py`. \n",
    "    - It is virtually impossible to resolve conflicts, with a manual version control  system "
   ]
  }
 ],
 "metadata": {
  "celltoolbar": "Slideshow",
  "kernelspec": {
   "display_name": "Python 3 (ipykernel)",
   "language": "python",
   "name": "python3"
  },
  "language_info": {
   "codemirror_mode": {
    "name": "ipython",
    "version": 3
   },
   "file_extension": ".py",
   "mimetype": "text/x-python",
   "name": "python",
   "nbconvert_exporter": "python",
   "pygments_lexer": "ipython3",
   "version": "3.11.5"
  }
 },
 "nbformat": 4,
 "nbformat_minor": 2
}
